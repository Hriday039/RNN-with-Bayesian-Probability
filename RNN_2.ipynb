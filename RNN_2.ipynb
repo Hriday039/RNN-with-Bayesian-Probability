{
 "cells": [
  {
   "cell_type": "code",
   "execution_count": 9,
   "metadata": {
    "collapsed": false
   },
   "outputs": [],
   "source": [
    "%matplotlib inline\n",
    "import pymc3 as pm\n",
    "import theano.tensor as T\n",
    "import theano\n",
    "import sklearn\n",
    "import numpy as np\n",
    "import matplotlib.pyplot as plt\n",
    "import seaborn as sns\n",
    "\n",
    "from sklearn import datasets\n",
    "from sklearn.preprocessing import scale\n",
    "from sklearn.cross_validation import train_test_split\n",
    "from sklearn import datasets"
   ]
  },
  {
   "cell_type": "code",
   "execution_count": 10,
   "metadata": {
    "collapsed": true
   },
   "outputs": [],
   "source": [
    "digits = datasets.load_digits()"
   ]
  },
  {
   "cell_type": "code",
   "execution_count": 11,
   "metadata": {
    "collapsed": true
   },
   "outputs": [],
   "source": [
    "X=digits.images"
   ]
  },
  {
   "cell_type": "code",
   "execution_count": 12,
   "metadata": {
    "collapsed": true
   },
   "outputs": [],
   "source": [
    "Y_=digits.target"
   ]
  },
  {
   "cell_type": "code",
   "execution_count": 13,
   "metadata": {
    "collapsed": true
   },
   "outputs": [],
   "source": [
    "def get_on_hot(number):\n",
    "    on_hot=[0]*10\n",
    "    on_hot[number]=1\n",
    "    return on_hot"
   ]
  },
  {
   "cell_type": "code",
   "execution_count": 14,
   "metadata": {
    "collapsed": true
   },
   "outputs": [],
   "source": [
    "Y=map(get_on_hot,Y_)"
   ]
  },
  {
   "cell_type": "code",
   "execution_count": 21,
   "metadata": {
    "collapsed": true
   },
   "outputs": [],
   "source": [
    "X_train, X_test, Y_train, Y_test = train_test_split(X, Y, test_size=.5)"
   ]
  },
  {
   "cell_type": "code",
   "execution_count": 16,
   "metadata": {
    "collapsed": true
   },
   "outputs": [],
   "source": [
    "init_1 = np.random.randn(8,10 )"
   ]
  },
  {
   "cell_type": "code",
   "execution_count": 20,
   "metadata": {
    "collapsed": false
   },
   "outputs": [
    {
     "data": {
      "text/plain": [
       "array([[ 3.31484683, -0.72906021, -0.33538033, -0.14089666, -2.45247774,\n",
       "         1.37877694,  0.13611085, -0.05659525, -1.18132948,  0.17851682],\n",
       "       [-0.41575176, -0.72775298,  0.99436636,  0.73903168, -1.08272076,\n",
       "         0.21664141,  2.03514645,  1.95160188, -0.43031745,  2.10411859],\n",
       "       [-1.15109544,  1.31479716, -1.32944979,  1.44226556, -0.44930467,\n",
       "         0.49169945,  1.68542073, -0.90513549,  0.23613037, -0.95073979],\n",
       "       [-1.20065692, -0.38174951,  0.07992937,  0.47488803,  1.35693728,\n",
       "        -0.76054341,  2.20958252,  0.33547014,  0.39605532, -0.79657997],\n",
       "       [ 0.74183075,  0.814699  ,  0.00815273, -1.37124061, -0.71154606,\n",
       "         0.33148444, -0.05953994,  0.31515137,  1.3072224 , -0.46025015],\n",
       "       [-0.51833453, -2.31594542, -1.67323635,  2.34802464,  0.49470139,\n",
       "         0.19274371,  0.79785064,  1.09637578,  2.51520913, -0.4352647 ],\n",
       "       [-0.26700637, -0.44669455,  0.15794015, -0.20745846,  0.80561154,\n",
       "        -0.41336305, -2.09122664,  0.04264424, -0.10260882,  1.21898836],\n",
       "       [ 0.18778984,  0.23885508,  0.16117993, -1.42750316,  1.796287  ,\n",
       "         1.98997035, -0.64092555,  0.71707787, -0.42313912,  0.02619688]])"
      ]
     },
     "execution_count": 20,
     "metadata": {},
     "output_type": "execute_result"
    }
   ],
   "source": [
    "init_1"
   ]
  },
  {
   "cell_type": "code",
   "execution_count": 17,
   "metadata": {
    "collapsed": false
   },
   "outputs": [],
   "source": [
    "with pm.Model() as neural_network:\n",
    "    weights_in_1 = pm.Normal('w_in_1', 0, sd=1, \n",
    "                             shape=(8, 10), \n",
    "                             testval=init_1)"
   ]
  },
  {
   "cell_type": "code",
   "execution_count": 18,
   "metadata": {
    "collapsed": true
   },
   "outputs": [],
   "source": [
    "c = X[0][0].dot(init_1)"
   ]
  },
  {
   "cell_type": "code",
   "execution_count": 19,
   "metadata": {
    "collapsed": false
   },
   "outputs": [
    {
     "data": {
      "text/plain": [
       "array([-15.20587493,   6.62758778,  -7.20802891,   3.39173128,\n",
       "         9.48444806,  -4.25246332,  37.41366759,   3.76817248,\n",
       "        20.60958174, -19.68675456])"
      ]
     },
     "execution_count": 19,
     "metadata": {},
     "output_type": "execute_result"
    }
   ],
   "source": [
    "c"
   ]
  },
  {
   "cell_type": "code",
   "execution_count": 30,
   "metadata": {
    "collapsed": true
   },
   "outputs": [],
   "source": [
    "ann_input = theano.shared(X_train[0][0])"
   ]
  },
  {
   "cell_type": "code",
   "execution_count": 31,
   "metadata": {
    "collapsed": true
   },
   "outputs": [],
   "source": [
    "with pm.Model() as neural_network:\n",
    "    weights_in_1 = pm.Normal('w_in_1', 0, sd=1, \n",
    "                             shape=(8, 10), \n",
    "                             testval=init_1)\n",
    "    act_1 = T.tanh(T.dot(ann_input, \n",
    "                         weights_in_1))"
   ]
  },
  {
   "cell_type": "code",
   "execution_count": 32,
   "metadata": {
    "collapsed": false
   },
   "outputs": [
    {
     "data": {
      "text/plain": [
       "Elemwise{tanh,no_inplace}.0"
      ]
     },
     "execution_count": 32,
     "metadata": {},
     "output_type": "execute_result"
    }
   ],
   "source": [
    "act_1"
   ]
  },
  {
   "cell_type": "code",
   "execution_count": null,
   "metadata": {
    "collapsed": true
   },
   "outputs": [],
   "source": []
  }
 ],
 "metadata": {
  "kernelspec": {
   "display_name": "Python 2",
   "language": "python",
   "name": "python2"
  },
  "language_info": {
   "codemirror_mode": {
    "name": "ipython",
    "version": 2
   },
   "file_extension": ".py",
   "mimetype": "text/x-python",
   "name": "python",
   "nbconvert_exporter": "python",
   "pygments_lexer": "ipython2",
   "version": "2.7.6"
  }
 },
 "nbformat": 4,
 "nbformat_minor": 0
}
